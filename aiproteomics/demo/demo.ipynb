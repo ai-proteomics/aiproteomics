{
 "cells": [
  {
   "attachments": {},
   "cell_type": "markdown",
   "id": "68477320-9a4e-45e4-82f3-a0c77f7d255b",
   "metadata": {},
   "source": [
    "## Import external and `aiproteomics` packages"
   ]
  },
  {
   "cell_type": "code",
   "execution_count": 1,
   "id": "3c75c38d-cd19-4347-bc9e-4e0d61267c71",
   "metadata": {},
   "outputs": [
    {
     "name": "stderr",
     "output_type": "stream",
     "text": [
      "2022-12-09 10:04:31.975808: W tensorflow/stream_executor/platform/default/dso_loader.cc:64] Could not load dynamic library 'libcudart.so.11.0'; dlerror: libcudart.so.11.0: cannot open shared object file: No such file or directory\n",
      "2022-12-09 10:04:31.975919: I tensorflow/stream_executor/cuda/cudart_stub.cc:29] Ignore above cudart dlerror if you do not have a GPU set up on your machine.\n"
     ]
    }
   ],
   "source": [
    "import tensorflow as tf\n",
    "import numpy as np\n",
    "\n",
    "import aiproteomics"
   ]
  },
  {
   "cell_type": "markdown",
   "id": "61c6ed87-44ff-4430-a3a5-732e96a9739a",
   "metadata": {},
   "source": [
    "## Load a ready-to-use dataset derived from the DeepDIA model"
   ]
  },
  {
   "cell_type": "markdown",
   "id": "48619a23-4b09-478c-a3f8-34b0082afc2f",
   "metadata": {},
   "source": [
    "It's now possible to load (remote) proteomics datasets defined in the package, with all preprocessing carried out automatically."
   ]
  },
  {
   "cell_type": "code",
   "execution_count": null,
   "id": "39e01528-d9d1-45e2-9ff7-cd9ba48bd394",
   "metadata": {},
   "outputs": [],
   "source": [
    "# ds, ds_info = tfds.load('aiproteomicshela1', as_supervised=True, with_info=True)\n"
   ]
  },
  {
   "cell_type": "markdown",
   "id": "5e3345ee-1b84-49d4-a683-fe017e928157",
   "metadata": {},
   "source": [
    "Let's look at the info for the 'hela1' dataset we have just fetched:"
   ]
  },
  {
   "cell_type": "code",
   "execution_count": null,
   "id": "64ff8d8b-f463-424c-9948-3e2daea39e3d",
   "metadata": {},
   "outputs": [],
   "source": [
    "# print(ds_info)"
   ]
  },
  {
   "cell_type": "markdown",
   "id": "f9e71e30-b6c5-4717-8d5e-80651acda007",
   "metadata": {},
   "source": [
    "## Build a transformer model for retention time prediction"
   ]
  },
  {
   "cell_type": "markdown",
   "id": "5adf9bac-9dc2-48d9-a62e-2225ea268cad",
   "metadata": {},
   "source": [
    "The `aiproteomics` package will also contains quick methods for obtaining common retention time models. Currently we can build a transformer for learning retention time."
   ]
  },
  {
   "cell_type": "code",
   "execution_count": null,
   "id": "10050d70-c606-41fd-801b-6a7a5a73034a",
   "metadata": {},
   "outputs": [],
   "source": [
    "model = aiproteomics.rt.models.build_rt_transformer_model(\n",
    "        num_layers = 6,                 # number of layers, paper = 6\n",
    "        d_model = 512,\n",
    "        num_heads = 8,                  # Number of attention heads, paper = 8\n",
    "        d_ff = 2048,                    # Hidden layer size in feed forward network inside transformer, paper = 2048\n",
    "        dropout_rate = 0.1,             #\n",
    "        vocab_size = 22,                # number of aminoacids\n",
    "        max_len = 50                    # maximal peptide length\n",
    "    )"
   ]
  },
  {
   "cell_type": "code",
   "execution_count": 2,
   "id": "10050d70-c606-41fd-801b-6a7a5a73034a",
   "metadata": {},
   "outputs": [
    {
     "name": "stderr",
     "output_type": "stream",
     "text": [
      "2022-12-09 10:04:47.891487: W tensorflow/stream_executor/platform/default/dso_loader.cc:64] Could not load dynamic library 'libcuda.so.1'; dlerror: libcuda.so.1: cannot open shared object file: No such file or directory\n",
      "2022-12-09 10:04:47.891724: W tensorflow/stream_executor/cuda/cuda_driver.cc:269] failed call to cuInit: UNKNOWN ERROR (303)\n",
      "2022-12-09 10:04:47.891800: I tensorflow/stream_executor/cuda/cuda_diagnostics.cc:156] kernel driver does not appear to be running on this host (DESKTOP-QCBKDU1): /proc/driver/nvidia/version does not exist\n",
      "2022-12-09 10:04:47.893854: I tensorflow/core/platform/cpu_feature_guard.cc:142] This TensorFlow binary is optimized with oneAPI Deep Neural Network Library (oneDNN) to use the following CPU instructions in performance-critical operations:  AVX2 AVX512F FMA\n",
      "To enable them in other operations, rebuild TensorFlow with the appropriate compiler flags.\n",
      "2022-12-09 10:04:49.944587: I tensorflow/core/grappler/devices.cc:66] Number of eligible GPUs (core count >= 8, compute capability >= 0.0): 0\n",
      "2022-12-09 10:04:49.945033: I tensorflow/core/grappler/clusters/single_machine.cc:357] Starting new session\n",
      "2022-12-09 10:04:50.011316: I tensorflow/core/grappler/optimizers/meta_optimizer.cc:1137] Optimization results for grappler item: graph_to_optimize\n",
      "  function_optimizer: Graph size after: 458 nodes (254), 543 edges (306), time = 13.823ms.\n",
      "  function_optimizer: Graph size after: 458 nodes (0), 543 edges (0), time = 3.968ms.\n",
      "Optimization results for grappler item: while_cond_1967\n",
      "  function_optimizer: function_optimizer did nothing. time = 0.017ms.\n",
      "  function_optimizer: function_optimizer did nothing. time = 0.001ms.\n",
      "Optimization results for grappler item: while_cond_2345\n",
      "  function_optimizer: function_optimizer did nothing. time = 0.003ms.\n",
      "  function_optimizer: function_optimizer did nothing. time = 0.001ms.\n",
      "Optimization results for grappler item: while_body_2346\n",
      "  function_optimizer: function_optimizer did nothing. time = 0.003ms.\n",
      "  function_optimizer: function_optimizer did nothing. time = 0.001ms.\n",
      "Optimization results for grappler item: while_body_2733\n",
      "  function_optimizer: function_optimizer did nothing. time = 0.018ms.\n",
      "  function_optimizer: function_optimizer did nothing. time = 0.002ms.\n",
      "Optimization results for grappler item: while_body_3160\n",
      "  function_optimizer: function_optimizer did nothing. time = 0.014ms.\n",
      "  function_optimizer: function_optimizer did nothing. time = 0.001ms.\n",
      "Optimization results for grappler item: while_cond_3159\n",
      "  function_optimizer: function_optimizer did nothing. time = 0.007ms.\n",
      "  function_optimizer: function_optimizer did nothing. time = 0.001ms.\n",
      "Optimization results for grappler item: while_body_1968\n",
      "  function_optimizer: function_optimizer did nothing. time = 0.012ms.\n",
      "  function_optimizer: function_optimizer did nothing. time = 0ms.\n",
      "Optimization results for grappler item: while_cond_2732\n",
      "  function_optimizer: function_optimizer did nothing. time = 0.01ms.\n",
      "  function_optimizer: function_optimizer did nothing. time = 0ms.\n",
      "\n",
      "2022-12-09 10:04:50.835079: I tensorflow/core/grappler/devices.cc:66] Number of eligible GPUs (core count >= 8, compute capability >= 0.0): 0\n",
      "2022-12-09 10:04:50.835653: I tensorflow/core/grappler/clusters/single_machine.cc:357] Starting new session\n",
      "2022-12-09 10:04:51.209984: I tensorflow/core/grappler/optimizers/meta_optimizer.cc:1137] Optimization results for grappler item: graph_to_optimize\n",
      "  constant_folding: Graph size after: 254 nodes (-37), 283 edges (-54), time = 175.976ms.\n",
      "  function_optimizer: Graph size after: 254 nodes (0), 283 edges (0), time = 92.021ms.\n",
      "  dependency_optimizer: Graph size after: 207 nodes (-47), 226 edges (-57), time = 10.451ms.\n",
      "  constant_folding: Graph size after: 207 nodes (0), 226 edges (0), time = 18.589ms.\n",
      "  function_optimizer: Graph size after: 207 nodes (0), 226 edges (0), time = 18.396ms.\n",
      "  dependency_optimizer: Graph size after: 207 nodes (0), 226 edges (0), time = 5.516ms.\n",
      "Optimization results for grappler item: while_cond_1967\n",
      "  constant_folding: Graph size after: 14 nodes (0), 4 edges (0), time = 0.344ms.\n",
      "  function_optimizer: function_optimizer did nothing. time = 0.016ms.\n",
      "  dependency_optimizer: Graph size after: 13 nodes (-1), 3 edges (-1), time = 0.059ms.\n",
      "  constant_folding: Graph size after: 13 nodes (0), 3 edges (0), time = 0.124ms.\n",
      "  function_optimizer: function_optimizer did nothing. time = 0.005ms.\n",
      "  dependency_optimizer: Graph size after: 13 nodes (0), 3 edges (0), time = 0.037ms.\n",
      "Optimization results for grappler item: while_cond_2345\n",
      "  constant_folding: Graph size after: 14 nodes (0), 4 edges (0), time = 0.23ms.\n",
      "  function_optimizer: function_optimizer did nothing. time = 0.007ms.\n",
      "  dependency_optimizer: Graph size after: 13 nodes (-1), 3 edges (-1), time = 0.049ms.\n",
      "  constant_folding: Graph size after: 13 nodes (0), 3 edges (0), time = 0.109ms.\n",
      "  function_optimizer: function_optimizer did nothing. time = 0.005ms.\n",
      "  dependency_optimizer: Graph size after: 13 nodes (0), 3 edges (0), time = 0.035ms.\n",
      "Optimization results for grappler item: while_body_2346\n",
      "  constant_folding: Graph size after: 54 nodes (0), 57 edges (0), time = 2.689ms.\n",
      "  function_optimizer: function_optimizer did nothing. time = 0.103ms.\n",
      "  dependency_optimizer: Graph size after: 49 nodes (-5), 52 edges (-5), time = 0.633ms.\n",
      "  constant_folding: Graph size after: 49 nodes (0), 52 edges (0), time = 1.068ms.\n",
      "  function_optimizer: function_optimizer did nothing. time = 0.076ms.\n",
      "  dependency_optimizer: Graph size after: 49 nodes (0), 52 edges (0), time = 0.395ms.\n",
      "Optimization results for grappler item: while_body_2733\n",
      "  constant_folding: Graph size after: 54 nodes (0), 57 edges (0), time = 1.505ms.\n",
      "  function_optimizer: function_optimizer did nothing. time = 0.125ms.\n",
      "  dependency_optimizer: Graph size after: 49 nodes (-5), 52 edges (-5), time = 0.486ms.\n",
      "  constant_folding: Graph size after: 49 nodes (0), 52 edges (0), time = 1.022ms.\n",
      "  function_optimizer: function_optimizer did nothing. time = 0.064ms.\n",
      "  dependency_optimizer: Graph size after: 49 nodes (0), 52 edges (0), time = 0.314ms.\n",
      "Optimization results for grappler item: while_body_3160\n",
      "  constant_folding: Graph size after: 54 nodes (0), 57 edges (0), time = 0.93ms.\n",
      "  function_optimizer: function_optimizer did nothing. time = 0.017ms.\n",
      "  dependency_optimizer: Graph size after: 49 nodes (-5), 52 edges (-5), time = 0.233ms.\n",
      "  constant_folding: Graph size after: 49 nodes (0), 52 edges (0), time = 0.429ms.\n",
      "  function_optimizer: function_optimizer did nothing. time = 0.012ms.\n",
      "  dependency_optimizer: Graph size after: 49 nodes (0), 52 edges (0), time = 0.191ms.\n",
      "Optimization results for grappler item: while_cond_3159\n",
      "  constant_folding: Graph size after: 14 nodes (0), 4 edges (0), time = 0.367ms.\n",
      "  function_optimizer: function_optimizer did nothing. time = 0.008ms.\n",
      "  dependency_optimizer: Graph size after: 13 nodes (-1), 3 edges (-1), time = 0.053ms.\n",
      "  constant_folding: Graph size after: 13 nodes (0), 3 edges (0), time = 0.112ms.\n",
      "  function_optimizer: function_optimizer did nothing. time = 0.005ms.\n",
      "  dependency_optimizer: Graph size after: 13 nodes (0), 3 edges (0), time = 0.038ms.\n",
      "Optimization results for grappler item: while_body_1968\n",
      "  constant_folding: Graph size after: 54 nodes (0), 57 edges (0), time = 2.988ms.\n",
      "  function_optimizer: function_optimizer did nothing. time = 0.075ms.\n",
      "  dependency_optimizer: Graph size after: 49 nodes (-5), 52 edges (-5), time = 0.546ms.\n",
      "  constant_folding: Graph size after: 49 nodes (0), 52 edges (0), time = 0.756ms.\n",
      "  function_optimizer: function_optimizer did nothing. time = 0.024ms.\n",
      "  dependency_optimizer: Graph size after: 49 nodes (0), 52 edges (0), time = 0.235ms.\n",
      "Optimization results for grappler item: while_cond_2732\n",
      "  constant_folding: Graph size after: 14 nodes (0), 4 edges (0), time = 0.352ms.\n",
      "  function_optimizer: function_optimizer did nothing. time = 0.026ms.\n",
      "  dependency_optimizer: Graph size after: 13 nodes (-1), 3 edges (-1), time = 0.065ms.\n",
      "  constant_folding: Graph size after: 13 nodes (0), 3 edges (0), time = 0.116ms.\n",
      "  function_optimizer: function_optimizer did nothing. time = 0.005ms.\n",
      "  dependency_optimizer: Graph size after: 13 nodes (0), 3 edges (0), time = 0.036ms.\n",
      "\n"
     ]
    }
   ],
   "source": [
    "# from aiproteomics.modelgen import prosit1_gen\n",
    "\n",
    "# model = prosit1_gen.build_prosit1_model()"
   ]
  },
  {
   "cell_type": "code",
   "execution_count": null,
   "id": "e71dd60c-9051-40e3-b33e-4f3b0366c69c",
   "metadata": {},
   "outputs": [],
   "source": [
    "model.summary()"
   ]
  },
  {
   "cell_type": "code",
   "execution_count": null,
   "id": "20ad8711-ea1b-4346-bf46-fbe45ec11cfb",
   "metadata": {},
   "outputs": [],
   "source": [
    "tf.keras.utils.plot_model(model, show_shapes=True)\n",
    "# graphviz not working, needs to be fixed"
   ]
  },
  {
   "cell_type": "markdown",
   "id": "3d96e49f-ba36-4e3e-957a-c57e5a373890",
   "metadata": {},
   "source": [
    "## Train the transformer model on our dataset"
   ]
  },
  {
   "cell_type": "code",
   "execution_count": null,
   "id": "79a49f73-f69c-4a62-a247-6b8f890ca30b",
   "metadata": {},
   "outputs": [],
   "source": [
    "learning_rate = aiproteomics.frag.models.CustomSchedule(512)\n",
    "optimizer = tf.keras.optimizers.Adam(learning_rate, beta_1=0.9, beta_2=0.98, epsilon=1e-9)\n",
    "model.compile(optimizer=optimizer, loss=tf.keras.losses.MeanAbsoluteError())"
   ]
  },
  {
   "cell_type": "code",
   "execution_count": null,
   "id": "b505be3e-cc82-4d6a-97eb-d0ba16045a61",
   "metadata": {
    "tags": []
   },
   "outputs": [],
   "source": [
    "history = model.fit(\n",
    "    ds['train'],\n",
    "    batch_size=1024,\n",
    "    epochs=1,\n",
    "    validation_data=ds['validate'],\n",
    "    callbacks = []\n",
    ")"
   ]
  },
  {
   "cell_type": "markdown",
   "id": "ce670f6d-27aa-41e6-a92e-2513433e752a",
   "metadata": {},
   "source": [
    "## Check performance of model against validation data"
   ]
  },
  {
   "cell_type": "code",
   "execution_count": null,
   "id": "a6cdb176-fd41-4fb4-b851-c0dd9ae809e8",
   "metadata": {
    "tags": []
   },
   "outputs": [],
   "source": [
    "score_train = model.evaluate(ds['train'], verbose=0)\n",
    "score_val = model.evaluate(ds['validate'], verbose=0)\n",
    "score = model.evaluate(ds['test'], verbose=0)\n",
    "\n",
    "print(score_train, score_val, \"->\", score)"
   ]
  },
  {
   "cell_type": "markdown",
   "id": "f26df305-1835-4c87-9eec-f2639035034d",
   "metadata": {},
   "source": [
    "## Prosit1 fragmentation model"
   ]
  },
  {
   "cell_type": "code",
   "execution_count": null,
   "id": "6140b1bf-d590-4209-93c4-e0617d93ecb0",
   "metadata": {},
   "outputs": [],
   "source": [
    "model = aiproteomics.frag.models.build_prosit1_model()"
   ]
  },
  {
   "cell_type": "code",
   "execution_count": null,
   "id": "f082eb0b-28e4-478c-9fbc-0feebd036dad",
   "metadata": {},
   "outputs": [],
   "source": [
    "tf.keras.utils.plot_model(model, show_shapes=True)"
   ]
  },
  {
   "cell_type": "markdown",
   "id": "39903ea9-e092-43f0-9064-044736791b96",
   "metadata": {},
   "source": [
    "## Fragmentation model"
   ]
  },
  {
   "cell_type": "code",
   "execution_count": null,
   "id": "057e075c-dd98-40a6-8dd8-5689bda70481",
   "metadata": {},
   "outputs": [],
   "source": [
    "model = aiproteomics.frag.models.build_frag_transformer_model(\n",
    "        num_layers = 6,                 # number of layers\n",
    "        d_model = 512,\n",
    "        num_heads = 8,                  # Number of attention heads\n",
    "        d_ff = 2048,                    # Hidden layer size in feed forward network inside transformer\n",
    "        dropout_rate = 0.1,             #\n",
    "        vocab_size = 22,                # number of aminoacids\n",
    "        max_len = 50                    # maximal peptide length\n",
    "    )"
   ]
  },
  {
   "cell_type": "code",
   "execution_count": null,
   "id": "29deedae-bba2-4615-9062-c75c45e2ef91",
   "metadata": {},
   "outputs": [],
   "source": [
    "tf.keras.utils.plot_model(model, show_shapes=True)"
   ]
  },
  {
   "cell_type": "code",
   "execution_count": null,
   "id": "2b93510c-a189-4b7f-82cf-e715f6009f66",
   "metadata": {},
   "outputs": [],
   "source": []
  },
  {
   "cell_type": "code",
   "execution_count": null,
   "id": "fcb6f2ac-3b9d-4370-b875-ab91d19b9fd6",
   "metadata": {},
   "outputs": [],
   "source": []
  },
  {
   "cell_type": "code",
   "execution_count": null,
   "id": "5582ba1e-d5d4-41f7-b1e1-42e74eb79615",
   "metadata": {},
   "outputs": [],
   "source": []
  }
 ],
 "metadata": {
  "kernelspec": {
   "display_name": "testphospho",
   "language": "python",
   "name": "python3"
  },
  "language_info": {
   "codemirror_mode": {
    "name": "ipython",
    "version": 3
   },
   "file_extension": ".py",
   "mimetype": "text/x-python",
   "name": "python",
   "nbconvert_exporter": "python",
   "pygments_lexer": "ipython3",
   "version": "3.9.15"
  },
  "vscode": {
   "interpreter": {
    "hash": "fb36250ae339c369330c24fa68035ae8bedae3abd0ad015f3da2366ae404c03b"
   }
  }
 },
 "nbformat": 4,
 "nbformat_minor": 5
}
