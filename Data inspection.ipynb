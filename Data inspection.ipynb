{
 "cells": [
  {
   "cell_type": "markdown",
   "id": "1f1aaada-4d73-4be0-b31c-7f0c3da7d8f8",
   "metadata": {},
   "source": [
    "# Prosit data analysis\n",
    "My goal:\n",
    "To understand why the transformer model has different performance per intensity.\n",
    "\n",
    "\n",
    "Table of contents:\n",
    "- [Intensities](#Intensities)\n",
    "- [Sequences](#Sequences)\n",
    "- [Collision energy](#Collision-energy)"
   ]
  },
  {
   "cell_type": "code",
   "execution_count": 1,
   "id": "2c6bbd89-4cfd-44bf-b9a4-b8d9b9587bb3",
   "metadata": {
    "tags": []
   },
   "outputs": [],
   "source": [
    "import h5py\n",
    "import dask\n",
    "dask.config.set({\"dataframe.query-planning\": True})\n",
    "import dask.dataframe as dd\n",
    "import dask.array as da\n",
    "import numpy as np\n",
    "import matplotlib.pyplot as plt\n",
    "import seaborn as sns\n",
    "%matplotlib inline"
   ]
  },
  {
   "cell_type": "code",
   "execution_count": 2,
   "id": "23e2c6f8-6c48-4890-8fd3-696b9cf3e4a1",
   "metadata": {
    "tags": []
   },
   "outputs": [],
   "source": [
    "filename = \"traintest_hcd.hdf5\""
   ]
  },
  {
   "cell_type": "code",
   "execution_count": 3,
   "id": "5c06fa4a-0363-4280-9c96-589fd1cc0594",
   "metadata": {
    "tags": []
   },
   "outputs": [],
   "source": [
    "f = h5py.File(filename)"
   ]
  },
  {
   "cell_type": "code",
   "execution_count": 4,
   "id": "11c1a5d0-c1ad-44a1-8a14-47fe1aacbc21",
   "metadata": {
    "tags": []
   },
   "outputs": [
    {
     "data": {
      "text/plain": [
       "<KeysViewHDF5 ['collision_energy', 'collision_energy_aligned', 'collision_energy_aligned_normed', 'intensities_raw', 'masses_pred', 'masses_raw', 'method', 'precursor_charge_onehot', 'rawfile', 'reverse', 'scan_number', 'score', 'sequence_integer', 'sequence_onehot']>"
      ]
     },
     "execution_count": 4,
     "metadata": {},
     "output_type": "execute_result"
    }
   ],
   "source": [
    "f.keys()"
   ]
  },
  {
   "cell_type": "markdown",
   "id": "78a65944-a1b0-4d2b-81f9-4ca693d9c85d",
   "metadata": {},
   "source": [
    "The shape of the intensities is `(6787933, 174)`. This means there are 174 values per record. 174 is the resolution.\n",
    "\n",
    "Precursor charge: charge of thing going into mass spec, refers to whole sequence.\n",
    "Collision energy: feature of mass spectrometer. Can be different per input.\n",
    "Lenght 30 sequence means 29 different kinds of ions\n",
    "\n",
    "y and b are 2 ions, 2 sides\n",
    "ions can have charge up to 3\n",
    "\n",
    "Intensities are for certain ions, we consider 174 different types of ions"
   ]
  },
  {
   "cell_type": "code",
   "execution_count": 48,
   "id": "ce74ae47-d8b2-48e5-ae40-dbadc86fbe9b",
   "metadata": {
    "tags": []
   },
   "outputs": [
    {
     "data": {
      "text/plain": [
       "(6787933, 174)"
      ]
     },
     "execution_count": 48,
     "metadata": {},
     "output_type": "execute_result"
    }
   ],
   "source": [
    "f[\"masses_raw\"].shape"
   ]
  },
  {
   "cell_type": "markdown",
   "id": "77be2005-763b-42ad-8f02-602ae034dc29",
   "metadata": {
    "tags": []
   },
   "source": [
    "## Intensities"
   ]
  },
  {
   "cell_type": "code",
   "execution_count": 23,
   "id": "8203a2e4-b8fb-44ba-9ca6-7fd3b8f703c7",
   "metadata": {
    "tags": []
   },
   "outputs": [
    {
     "data": {
      "text/plain": [
       "(6787933, 174)"
      ]
     },
     "execution_count": 23,
     "metadata": {},
     "output_type": "execute_result"
    }
   ],
   "source": [
    "intensities = da.array(f[\"intensities_raw\"])\n",
    "a.shape"
   ]
  },
  {
   "cell_type": "markdown",
   "id": "75017b79-dbd5-47d7-bad4-a67221a71f4b",
   "metadata": {},
   "source": [
    "## Sequences\n",
    "The shape of sequences is`(6787933, 30)`. This means that every record has a sequence of length 30."
   ]
  },
  {
   "cell_type": "code",
   "execution_count": 29,
   "id": "0084359e-2f95-4d7d-9e00-dc54d33c082b",
   "metadata": {
    "tags": []
   },
   "outputs": [
    {
     "data": {
      "text/plain": [
       "(6787933, 30)"
      ]
     },
     "execution_count": 29,
     "metadata": {},
     "output_type": "execute_result"
    }
   ],
   "source": [
    "sequences = da.array(f[\"sequence_integer\"])\n",
    "sequences.shape"
   ]
  },
  {
   "cell_type": "code",
   "execution_count": 37,
   "id": "b90e0640-a21d-43e5-8a4e-2714e6e694e2",
   "metadata": {
    "tags": []
   },
   "outputs": [
    {
     "data": {
      "text/plain": [
       "array([19,  4, 18, 20, 13, 18, 12, 16, 17,  5, 15, 18, 10, 18, 16,  6,  1,\n",
       "       17, 15,  0,  0,  0,  0,  0,  0,  0,  0,  0,  0,  0])"
      ]
     },
     "execution_count": 37,
     "metadata": {},
     "output_type": "execute_result"
    }
   ],
   "source": [
    "sequences[0].compute()"
   ]
  },
  {
   "cell_type": "markdown",
   "id": "09862efb-869d-40c9-af73-34c87b744e51",
   "metadata": {
    "tags": []
   },
   "source": [
    "### Getting sequence length\n",
    "I'm assuming that the value `0` is the padding value. If I find the index of the first occurence of the value 0 I know the length of the sequence."
   ]
  },
  {
   "cell_type": "code",
   "execution_count": 78,
   "id": "dc7df1e7-52b4-4477-a609-cf3edaca1b4e",
   "metadata": {
    "tags": []
   },
   "outputs": [
    {
     "data": {
      "text/plain": [
       "[(0, 18754),\n",
       " (7, 300709),\n",
       " (8, 436717),\n",
       " (9, 568136),\n",
       " (10, 663563),\n",
       " (11, 685975),\n",
       " (12, 653713),\n",
       " (13, 588396),\n",
       " (14, 551786),\n",
       " (15, 451905),\n",
       " (16, 383824),\n",
       " (17, 334986),\n",
       " (18, 268115),\n",
       " (19, 229419),\n",
       " (20, 177265),\n",
       " (21, 116717),\n",
       " (22, 75551),\n",
       " (23, 62547),\n",
       " (24, 59088),\n",
       " (25, 41523),\n",
       " (26, 36190),\n",
       " (27, 30642),\n",
       " (28, 29631),\n",
       " (29, 22781)]"
      ]
     },
     "execution_count": 78,
     "metadata": {},
     "output_type": "execute_result"
    },
    {
     "data": {
      "image/png": "[encoded data removed]",
      "text/plain": [
       "<Figure size 640x480 with 1 Axes>"
      ]
     },
     "metadata": {},
     "output_type": "display_data"
    }
   ],
   "source": [
    "lengths = da.argmax(sequences == 0, axis=1)\n",
    "\n",
    "unique_lengths, len_counts = da.unique(lengths, return_counts=True)\n",
    "\n",
    "fig,ax = plt.subplots()\n",
    "unique_lengths = unique_lengths.compute()\n",
    "len_counts = len_counts.compute()\n",
    "\n",
    "sns.barplot(x=unique_lengths, y=len_counts, ax=ax)\n",
    "ax.set_title(\"Frequencies of sequence lengths\")\n",
    "ax.set_xlabel(\"Sequence length\")\n",
    "ax.set_ylabel(\"Count\")\n",
    "\n",
    "list(zip(unique_lengths, len_counts))"
   ]
  },
  {
   "cell_type": "markdown",
   "id": "00e49c91-4467-412d-a178-a29921767173",
   "metadata": {},
   "source": [
    "There are 18754 sequences of length 0, that is weird. Let's get the list of indices of sequences with length 0"
   ]
  },
  {
   "cell_type": "code",
   "execution_count": 90,
   "id": "3a87d120-81a9-471d-9ca6-d29646577a0d",
   "metadata": {
    "tags": []
   },
   "outputs": [],
   "source": [
    "zero_length_idx, = da.where(lengths==0)\n",
    "\n",
    "zero_length_idx = zero_length_idx.compute()"
   ]
  },
  {
   "cell_type": "markdown",
   "id": "101c6aa5-550a-4c79-bd23-8114a41bb884",
   "metadata": {},
   "source": [
    "Inspect the first couple sequences. Looks like the zero length indices actually refer to the ones that have full length."
   ]
  },
  {
   "cell_type": "code",
   "execution_count": 93,
   "id": "9cdda83f-12ba-4269-a9f7-1d1375108615",
   "metadata": {
    "tags": []
   },
   "outputs": [
    {
     "data": {
      "text/plain": [
       "array([[ 6,  4,  2, 16, 13, 13,  6,  1, 13,  6, 13, 13,  1, 15,  7, 11,\n",
       "        18, 19, 13, 16, 10, 16, 13, 20, 13,  2, 13,  1, 13,  9],\n",
       "       [11, 11, 14, 14, 13, 15, 18,  4, 17,  3, 17,  8,  6,  1,  6,  4,\n",
       "         6, 13, 14, 14,  1, 18, 13, 19, 16,  1, 19, 18, 17, 15],\n",
       "       [11,  1,  3,  7, 10, 11, 10,  1,  4,  6, 20, 15, 10, 18, 14, 15,\n",
       "        13, 13, 16,  1,  1,  1,  1,  7,  6, 13,  7,  1, 10, 15],\n",
       "       [10,  8,  7, 16,  6, 16, 16,  4, 12,  4, 16, 14,  4,  3,  4,  6,\n",
       "         1,  3, 10,  8, 13, 20, 17,  6, 10,  9,  1,  3, 12, 15],\n",
       "       [14, 14, 14,  1, 16,  4,  6, 15, 13, 19, 16,  3, 14,  1,  4,  6,\n",
       "        13,  4,  6,  4,  6,  1, 21, 13, 10,  5,  6, 15, 17,  9],\n",
       "       [16,  9,  5, 13,  4, 10, 13,  5,  6,  1,  5, 18, 13,  6,  6, 13,\n",
       "        10, 20,  3,  6, 10, 14,  1,  6,  1,  1,  3,  7, 18, 15],\n",
       "       [ 1, 16, 14, 16, 18, 16, 16, 20, 10,  1, 19, 20, 14, 14,  9, 13,\n",
       "         6, 14,  1, 13, 15, 10, 10,  8, 20,  3,  1, 16, 12, 15],\n",
       "       [ 1, 10, 10, 16,  4, 13, 13,  4, 13,  6,  6,  4,  3,  6, 13, 18,\n",
       "        12, 10, 13,  7,  1, 16, 15, 13,  5,  8, 10,  4, 16, 15],\n",
       "       [ 1, 10, 10,  2,  5,  5,  2,  3,  4, 13,  1, 10,  7,  4, 14,  7,\n",
       "        14, 18, 17,  6,  8,  3,  3,  1,  5,  3,  4, 10, 14, 15],\n",
       "       [ 8, 14,  4, 10, 17, 14, 21, 10, 14,  4, 16,  7, 16, 16, 10, 18,\n",
       "        16, 17, 12,  4,  7, 10, 10, 14,  4, 10, 16, 14, 18, 15]])"
      ]
     },
     "execution_count": 93,
     "metadata": {},
     "output_type": "execute_result"
    }
   ],
   "source": [
    "sequences[zero_length_idx[:10]].compute()"
   ]
  },
  {
   "cell_type": "code",
   "execution_count": null,
   "id": "1bc19325-0d93-4830-9a94-86ed3dc6ec86",
   "metadata": {},
   "outputs": [],
   "source": [
    "sequences[zero_length_idx[0]].compute()"
   ]
  },
  {
   "cell_type": "markdown",
   "id": "905ca81a-a633-44ff-a356-dc82f87a3e49",
   "metadata": {},
   "source": [
    "To be sure, let's check how many sequences start with 0 (spoiler alert: no sequences start with 0)"
   ]
  },
  {
   "cell_type": "code",
   "execution_count": 94,
   "id": "d59553e1-5064-439e-840d-af817cd1676f",
   "metadata": {
    "tags": []
   },
   "outputs": [
    {
     "data": {
      "text/plain": [
       "0"
      ]
     },
     "execution_count": 94,
     "metadata": {},
     "output_type": "execute_result"
    }
   ],
   "source": [
    "da.count_nonzero(sequences[:, 0] == 0).compute()"
   ]
  },
  {
   "cell_type": "markdown",
   "id": "d29037c0-48f9-40b0-865c-8cab4fd92d8e",
   "metadata": {},
   "source": [
    "## Collision energy"
   ]
  },
  {
   "cell_type": "code",
   "execution_count": 8,
   "id": "64df444a-89e1-4639-bed0-fc0526ed32c6",
   "metadata": {},
   "outputs": [],
   "source": [
    "collision_energy = da.array(f[\"collision_energy\"])"
   ]
  },
  {
   "cell_type": "code",
   "execution_count": 9,
   "id": "55b41b2f-b80a-4c3a-9ccf-4245d735ae2d",
   "metadata": {
    "tags": []
   },
   "outputs": [
    {
     "name": "stdout",
     "output_type": "stream",
     "text": [
      "Min: 20.0\n",
      "Max: 35.0\n",
      "Unique values: [20. 23. 25. 28. 30. 35.]\n"
     ]
    }
   ],
   "source": [
    "print(f\"Min: {collision_energy.min().compute()}\")\n",
    "print(f\"Max: {collision_energy.max().compute()}\")\n",
    "print(f\"Unique values: {da.unique(collision_energy).compute()}\")"
   ]
  },
  {
   "cell_type": "code",
   "execution_count": 14,
   "id": "9d6caf3b-8d8d-4edd-8ef0-6708156094a0",
   "metadata": {
    "tags": []
   },
   "outputs": [],
   "source": [
    "values, counts = da.unique(collision_energy, return_counts=True)\n",
    "values = values.compute()\n",
    "counts = counts.compute()"
   ]
  },
  {
   "cell_type": "code",
   "execution_count": 21,
   "id": "5d3a2444-6992-4481-abe4-a467119ae427",
   "metadata": {
    "tags": []
   },
   "outputs": [
    {
     "data": {
      "text/plain": [
       "Text(0, 0.5, 'Count')"
      ]
     },
     "execution_count": 21,
     "metadata": {},
     "output_type": "execute_result"
    },
    {
     "data": {
      "image/png": "[encoded data removed]",
      "text/plain": [
       "<Figure size 640x480 with 1 Axes>"
      ]
     },
     "metadata": {},
     "output_type": "display_data"
    }
   ],
   "source": [
    "fix, ax = plt.subplots()\n",
    "sns.barplot(x=values, y=counts, ax=ax)\n",
    "ax.set_xlabel(\"Collision energy\")\n",
    "ax.set_ylabel(\"Count\")"
   ]
  },
  {
   "cell_type": "markdown",
   "id": "3c902920-8cc2-4315-9243-e0f7ee94e25d",
   "metadata": {},
   "source": []
  }
 ],
 "metadata": {
  "kernelspec": {
   "display_name": "Python 3 (ipykernel)",
   "language": "python",
   "name": "python3"
  },
  "language_info": {
   "codemirror_mode": {
    "name": "ipython",
    "version": 3
   },
   "file_extension": ".py",
   "mimetype": "text/x-python",
   "name": "python",
   "nbconvert_exporter": "python",
   "pygments_lexer": "ipython3",
   "version": "3.10.12"
  }
 },
 "nbformat": 4,
 "nbformat_minor": 5
}
