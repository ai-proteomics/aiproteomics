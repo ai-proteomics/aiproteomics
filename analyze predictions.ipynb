{
 "cells": [
  {
   "cell_type": "code",
   "execution_count": 67,
   "id": "0e26ed95-8163-469a-90ba-f0743f3a2d49",
   "metadata": {
    "tags": []
   },
   "outputs": [],
   "source": [
    "import numpy as np\n",
    "import h5py\n",
    "from aiproteomics.comparison.ComparisonPrositFrag import ComparisonPrositFrag\n",
    "from dask import array as da\n",
    "import matplotlib.pyplot as plt\n",
    "import seaborn as sns\n",
    "from dask import dataframe as dd\n",
    "from dask.diagnostics import ProgressBar\n",
    "import pandas as pd\n",
    "%matplotlib inline"
   ]
  },
  {
   "cell_type": "code",
   "execution_count": 68,
   "id": "eb6877a3-e16a-46ae-9e59-54fa08b609e6",
   "metadata": {
    "tags": []
   },
   "outputs": [],
   "source": [
    "# Turns out it was better to store the results in a hdf5 file\n",
    "# predictions = np.load(\"predictions.npy\")\n",
    "\n",
    "# with h5py.File(\"predictions.hdf5\", \"w\") as f:\n",
    "#     dset = f.create_dataset(\"predictions\", predictions.shape, predictions.dtype)\n",
    "#     dset[:, :] = predictions"
   ]
  },
  {
   "cell_type": "code",
   "execution_count": 69,
   "id": "d2aa149c-4577-40c4-8933-c01f18290675",
   "metadata": {
    "tags": []
   },
   "outputs": [],
   "source": [
    "def load_dask_array_from_hdf5(filename, key, chunksize=1000):\n",
    "    f = h5py.File(filename)\n",
    "    return da.from_array(f[key], chunks=chunksize)"
   ]
  },
  {
   "cell_type": "code",
   "execution_count": 70,
   "id": "1438c41f-900a-424f-8e37-3b2ec68365eb",
   "metadata": {
    "tags": []
   },
   "outputs": [],
   "source": [
    "predictions = load_dask_array_from_hdf5(\"predictions.hdf5\", \"predictions\")\n",
    "labels = load_dask_array_from_hdf5(\"traintest_hcd.hdf5\", \"intensities_raw\")\n",
    "collision_energy = load_dask_array_from_hdf5(\"traintest_hcd.hdf5\", \"collision_energy\")\n",
    "precursor_charge = load_dask_array_from_hdf5(\"traintest_hcd.hdf5\", \"precursor_charge_onehot\")\n",
    "sequences = load_dask_array_from_hdf5(\"traintest_hcd.hdf5\", \"sequence_integer\")"
   ]
  },
  {
   "cell_type": "code",
   "execution_count": 71,
   "id": "5beffb7b-b199-4aed-aed4-a3a3cd48ae34",
   "metadata": {
    "tags": []
   },
   "outputs": [
    {
     "data": {
      "text/plain": [
       "(6787933,)"
      ]
     },
     "execution_count": 71,
     "metadata": {},
     "output_type": "execute_result"
    }
   ],
   "source": [
    "full_sequences = sequences[:,-1] > 0\n",
    "\n",
    "full_sequences.shape"
   ]
  },
  {
   "cell_type": "code",
   "execution_count": 72,
   "id": "2c1aa799-3a11-4cc0-8de3-f7983964f066",
   "metadata": {
    "tags": []
   },
   "outputs": [],
   "source": [
    "sequence_lengths= da.argmin(sequences, axis=1)"
   ]
  },
  {
   "cell_type": "code",
   "execution_count": 87,
   "id": "7d5bf9c9-b2d9-422f-9e7b-0105818003e5",
   "metadata": {
    "tags": []
   },
   "outputs": [],
   "source": [
    "sequence_lengths[full_sequences] = 29"
   ]
  },
  {
   "cell_type": "code",
   "execution_count": 88,
   "id": "8af41f94-f630-40d4-b5d4-a83bcea78bc6",
   "metadata": {
    "tags": []
   },
   "outputs": [
    {
     "data": {
      "text/plain": [
       "<KeysViewHDF5 ['collision_energy', 'collision_energy_aligned', 'collision_energy_aligned_normed', 'intensities_raw', 'masses_pred', 'masses_raw', 'method', 'precursor_charge_onehot', 'rawfile', 'reverse', 'scan_number', 'score', 'sequence_integer', 'sequence_onehot']>"
      ]
     },
     "execution_count": 88,
     "metadata": {},
     "output_type": "execute_result"
    }
   ],
   "source": [
    "f = h5py.File(\"traintest_hcd.hdf5\")\n",
    "\n",
    "f.keys()"
   ]
  },
  {
   "cell_type": "code",
   "execution_count": 89,
   "id": "0d7de322-ac57-4c31-9a2d-7e30d04ac88d",
   "metadata": {},
   "outputs": [
    {
     "data": {
      "text/plain": [
       "['collision_energy_aligned_normed',\n",
       " 'precursor_charge_onehot',\n",
       " 'sequence_integer']"
      ]
     },
     "execution_count": 89,
     "metadata": {},
     "output_type": "execute_result"
    }
   ],
   "source": [
    "[\"collision_energy_aligned_normed\", \"precursor_charge_onehot\", \"sequence_integer\"]"
   ]
  },
  {
   "cell_type": "code",
   "execution_count": 90,
   "id": "d810f47b-ea1a-4180-b32a-3af21e66b763",
   "metadata": {
    "tags": []
   },
   "outputs": [
    {
     "data": {
      "text/plain": [
       "(6787933, 174)"
      ]
     },
     "execution_count": 90,
     "metadata": {},
     "output_type": "execute_result"
    }
   ],
   "source": [
    "labels.shape"
   ]
  },
  {
   "cell_type": "code",
   "execution_count": 91,
   "id": "693d43e1-af2a-4269-b687-bb7aee0ca042",
   "metadata": {
    "tags": []
   },
   "outputs": [
    {
     "data": {
      "text/plain": [
       "(6787933, 174)"
      ]
     },
     "execution_count": 91,
     "metadata": {},
     "output_type": "execute_result"
    }
   ],
   "source": [
    "predictions.shape"
   ]
  },
  {
   "cell_type": "code",
   "execution_count": 92,
   "id": "b417349a-bab5-4d06-8d9a-62d465fd3aa9",
   "metadata": {
    "tags": []
   },
   "outputs": [
    {
     "data": {
      "text/plain": [
       "array([ 0.03333019,  0.        ,  0.        ,  0.00833965,  0.        ,\n",
       "        0.        ,  0.        ,  0.        ,  0.        ,  0.39771285,\n",
       "        0.        ,  0.        ,  0.        ,  0.        ,  0.        ,\n",
       "        0.12638215,  0.        ,  0.        ,  0.00881359,  0.        ,\n",
       "        0.        ,  0.0085394 ,  0.        ,  0.        ,  0.02134586,\n",
       "        0.        ,  0.        ,  0.        ,  0.        ,  0.        ,\n",
       "        0.01633287,  0.        ,  0.        ,  0.        ,  0.        ,\n",
       "        0.        ,  0.01483933,  0.        ,  0.02334369,  0.        ,\n",
       "        0.        ,  0.        ,  0.        ,  0.        ,  0.00457667,\n",
       "        0.        ,  0.        ,  0.        ,  0.        ,  0.        ,\n",
       "        0.        ,  0.        ,  0.        ,  0.        ,  0.        ,\n",
       "        0.        ,  0.        ,  0.        ,  0.        ,  0.        ,\n",
       "        0.        ,  0.00765157,  0.        ,  0.        ,  0.        ,\n",
       "        0.        ,  0.        ,  0.02404616,  0.        ,  0.        ,\n",
       "        0.        ,  0.        ,  0.        ,  0.0769597 ,  0.        ,\n",
       "        0.        ,  0.        ,  0.        ,  0.        ,  0.04689402,\n",
       "        0.        ,  0.        ,  0.        ,  0.        ,  0.        ,\n",
       "        1.        ,  0.02418364,  0.        ,  0.00374744,  0.        ,\n",
       "        0.        ,  0.52987347,  0.00914626,  0.        ,  0.        ,\n",
       "        0.        ,  0.        ,  0.58134748,  0.        ,  0.        ,\n",
       "        0.        ,  0.        ,  0.        ,  0.18345081,  0.        ,\n",
       "        0.        ,  0.00419239,  0.        , -1.        , -1.        ,\n",
       "       -1.        , -1.        , -1.        , -1.        , -1.        ,\n",
       "       -1.        , -1.        , -1.        , -1.        , -1.        ,\n",
       "       -1.        , -1.        , -1.        , -1.        , -1.        ,\n",
       "       -1.        , -1.        , -1.        , -1.        , -1.        ,\n",
       "       -1.        , -1.        , -1.        , -1.        , -1.        ,\n",
       "       -1.        , -1.        , -1.        , -1.        , -1.        ,\n",
       "       -1.        , -1.        , -1.        , -1.        , -1.        ,\n",
       "       -1.        , -1.        , -1.        , -1.        , -1.        ,\n",
       "       -1.        , -1.        , -1.        , -1.        , -1.        ,\n",
       "       -1.        , -1.        , -1.        , -1.        , -1.        ,\n",
       "       -1.        , -1.        , -1.        , -1.        , -1.        ,\n",
       "       -1.        , -1.        , -1.        , -1.        , -1.        ,\n",
       "       -1.        , -1.        , -1.        , -1.        ])"
      ]
     },
     "execution_count": 92,
     "metadata": {},
     "output_type": "execute_result"
    }
   ],
   "source": [
    "labels[0].compute()"
   ]
  },
  {
   "cell_type": "code",
   "execution_count": 93,
   "id": "52bc54b0-735e-45be-9b19-a5b416729639",
   "metadata": {
    "tags": []
   },
   "outputs": [],
   "source": [
    "from sklearn.preprocessing import normalize\n",
    "\n",
    "\n",
    "# TODO: Check if results are the same as with ComparisonPrositFrag\n",
    "def normalized_spectral_contrast_distance(true, pred):\n",
    "    \"\"\"\n",
    "    Calculate the (normalized) spectral contrast distance for two spectra. 1 represents total overlap.\n",
    "    \"\"\"\n",
    "    pred_norm = normalize(pred)\n",
    "    true_norm = normalize(true)\n",
    "    \n",
    "    product =  pred_norm * true_norm\n",
    "    product = product.sum(axis=1)\n",
    "    \n",
    "    arccos = np.arccos(product)\n",
    "    return 1 - 2 * arccos / np.pi\n",
    "\n"
   ]
  },
  {
   "cell_type": "code",
   "execution_count": 94,
   "id": "76768d61-76da-4df3-a6ae-2b6a3e422e72",
   "metadata": {
    "tags": []
   },
   "outputs": [
    {
     "data": {
      "text/plain": [
       "array([ 0.06520899, -0.05064844])"
      ]
     },
     "execution_count": 94,
     "metadata": {},
     "output_type": "execute_result"
    }
   ],
   "source": [
    "normalized_spectral_contrast_distance(labels[:2], predictions[:2])"
   ]
  },
  {
   "cell_type": "code",
   "execution_count": 95,
   "id": "5b39757d-0aab-4551-b528-50f1689bf389",
   "metadata": {
    "tags": []
   },
   "outputs": [
    {
     "data": {
      "text/html": [
       "<table>\n",
       "    <tr>\n",
       "        <td>\n",
       "            <table style=\"border-collapse: collapse;\">\n",
       "                <thead>\n",
       "                    <tr>\n",
       "                        <td> </td>\n",
       "                        <th> Array </th>\n",
       "                        <th> Chunk </th>\n",
       "                    </tr>\n",
       "                </thead>\n",
       "                <tbody>\n",
       "                    \n",
       "                    <tr>\n",
       "                        <th> Bytes </th>\n",
       "                        <td> 51.79 MiB </td>\n",
       "                        <td> 7.81 kiB </td>\n",
       "                    </tr>\n",
       "                    \n",
       "                    <tr>\n",
       "                        <th> Shape </th>\n",
       "                        <td> (6787933,) </td>\n",
       "                        <td> (1000,) </td>\n",
       "                    </tr>\n",
       "                    <tr>\n",
       "                        <th> Dask graph </th>\n",
       "                        <td colspan=\"2\"> 6788 chunks in 5 graph layers </td>\n",
       "                    </tr>\n",
       "                    <tr>\n",
       "                        <th> Data type </th>\n",
       "                        <td colspan=\"2\"> float64 numpy.ndarray </td>\n",
       "                    </tr>\n",
       "                </tbody>\n",
       "            </table>\n",
       "        </td>\n",
       "        <td>\n",
       "        <svg width=\"170\" height=\"75\" style=\"stroke:rgb(0,0,0);stroke-width:1\" >\n",
       "\n",
       "  <!-- Horizontal lines -->\n",
       "  <line x1=\"0\" y1=\"0\" x2=\"120\" y2=\"0\" style=\"stroke-width:2\" />\n",
       "  <line x1=\"0\" y1=\"25\" x2=\"120\" y2=\"25\" style=\"stroke-width:2\" />\n",
       "\n",
       "  <!-- Vertical lines -->\n",
       "  <line x1=\"0\" y1=\"0\" x2=\"0\" y2=\"25\" style=\"stroke-width:2\" />\n",
       "  <line x1=\"6\" y1=\"0\" x2=\"6\" y2=\"25\" />\n",
       "  <line x1=\"12\" y1=\"0\" x2=\"12\" y2=\"25\" />\n",
       "  <line x1=\"18\" y1=\"0\" x2=\"18\" y2=\"25\" />\n",
       "  <line x1=\"25\" y1=\"0\" x2=\"25\" y2=\"25\" />\n",
       "  <line x1=\"31\" y1=\"0\" x2=\"31\" y2=\"25\" />\n",
       "  <line x1=\"37\" y1=\"0\" x2=\"37\" y2=\"25\" />\n",
       "  <line x1=\"44\" y1=\"0\" x2=\"44\" y2=\"25\" />\n",
       "  <line x1=\"50\" y1=\"0\" x2=\"50\" y2=\"25\" />\n",
       "  <line x1=\"56\" y1=\"0\" x2=\"56\" y2=\"25\" />\n",
       "  <line x1=\"63\" y1=\"0\" x2=\"63\" y2=\"25\" />\n",
       "  <line x1=\"69\" y1=\"0\" x2=\"69\" y2=\"25\" />\n",
       "  <line x1=\"75\" y1=\"0\" x2=\"75\" y2=\"25\" />\n",
       "  <line x1=\"82\" y1=\"0\" x2=\"82\" y2=\"25\" />\n",
       "  <line x1=\"88\" y1=\"0\" x2=\"88\" y2=\"25\" />\n",
       "  <line x1=\"94\" y1=\"0\" x2=\"94\" y2=\"25\" />\n",
       "  <line x1=\"101\" y1=\"0\" x2=\"101\" y2=\"25\" />\n",
       "  <line x1=\"107\" y1=\"0\" x2=\"107\" y2=\"25\" />\n",
       "  <line x1=\"113\" y1=\"0\" x2=\"113\" y2=\"25\" />\n",
       "  <line x1=\"120\" y1=\"0\" x2=\"120\" y2=\"25\" style=\"stroke-width:2\" />\n",
       "\n",
       "  <!-- Colored Rectangle -->\n",
       "  <polygon points=\"0.0,0.0 120.0,0.0 120.0,25.412616514582485 0.0,25.412616514582485\" style=\"fill:#8B4903A0;stroke-width:0\"/>\n",
       "\n",
       "  <!-- Text -->\n",
       "  <text x=\"60.000000\" y=\"45.412617\" font-size=\"1.0rem\" font-weight=\"100\" text-anchor=\"middle\" >6787933</text>\n",
       "  <text x=\"140.000000\" y=\"12.706308\" font-size=\"1.0rem\" font-weight=\"100\" text-anchor=\"middle\" transform=\"rotate(0,140.000000,12.706308)\">1</text>\n",
       "</svg>\n",
       "        </td>\n",
       "    </tr>\n",
       "</table>"
      ],
      "text/plain": [
       "dask.array<normalized_spectral_contrast_distance, shape=(6787933,), dtype=float64, chunksize=(1000,), chunktype=numpy.ndarray>"
      ]
     },
     "execution_count": 95,
     "metadata": {},
     "output_type": "execute_result"
    }
   ],
   "source": [
    "limit=None\n",
    "\n",
    "comparisons = da.map_blocks(normalized_spectral_contrast_distance, labels[:limit], predictions[:limit], drop_axis=1, dtype=float)\n",
    "\n",
    "comparisons"
   ]
  },
  {
   "cell_type": "code",
   "execution_count": null,
   "id": "1df378be-f004-4b0d-9e49-a726690fc229",
   "metadata": {},
   "outputs": [
    {
     "name": "stdout",
     "output_type": "stream",
     "text": [
      "[###################################     ] | 88% Completed | 441.57 s"
     ]
    }
   ],
   "source": [
    "computation, edges = da.histogram(comparisons, bins=50, range=(0, 1))\n",
    "\n",
    "with ProgressBar():\n",
    "    hist = computation.compute()\n"
   ]
  },
  {
   "cell_type": "code",
   "execution_count": null,
   "id": "d58b6f84-a094-4eeb-a37a-c8e02a6e6826",
   "metadata": {
    "tags": []
   },
   "outputs": [],
   "source": [
    "\n",
    "\n",
    "ax = sns.barplot(x=edges[:-1], y=hist)\n",
    "\n",
    "_=ax.set_xticks(ticks = range(len(edges[:-1])), labels=[e if i%4 == 0 else \"\" for i, e in enumerate(edges[:-1])])"
   ]
  },
  {
   "cell_type": "code",
   "execution_count": null,
   "id": "1c056f89-18e6-4f0b-8b2c-33c46246d1f2",
   "metadata": {
    "tags": []
   },
   "outputs": [],
   "source": [
    "sequence_column_names = [f\"seq_{i}\" for i in range(sequences.shape[1])]\n",
    "\n",
    "sequence_df = dd.from_dask_array(sequences, columns=sequence_column_names)\n",
    "\n",
    "concatenated = dd.concat([dd.from_dask_array(sequence_lengths), dd.from_dask_array(collision_energy), dd.from_dask_array(comparisons), sequence_df], 1)\n",
    "concatenated.columns = [\"sequence_length\", \"collision_energy\", \"distance\"] + sequence_column_names\n",
    "\n",
    "concatenated"
   ]
  },
  {
   "cell_type": "code",
   "execution_count": null,
   "id": "5400dbcb-e2cd-4a66-bea6-c8d263914c86",
   "metadata": {
    "tags": []
   },
   "outputs": [],
   "source": [
    "concatenated.head()"
   ]
  },
  {
   "cell_type": "code",
   "execution_count": null,
   "id": "0e3d296c-0f61-4549-8a6b-8b109fb60e1d",
   "metadata": {
    "tags": []
   },
   "outputs": [],
   "source": [
    "# Let's take a sample to quickly try out analyses\n",
    "sample_size= 100000\n",
    "sample = concatenated.head(sample_size)"
   ]
  },
  {
   "cell_type": "code",
   "execution_count": null,
   "id": "50a9a2c8-fc04-42ed-8775-0242c4f14435",
   "metadata": {
    "tags": []
   },
   "outputs": [],
   "source": [
    "collision_energy[:3].compute()"
   ]
  },
  {
   "cell_type": "code",
   "execution_count": null,
   "id": "dd3aeed3-67a9-4087-bdbf-c8b7f4c80f5a",
   "metadata": {
    "tags": []
   },
   "outputs": [],
   "source": [
    "corr_columns = [\"sequence_length\", \"collision_energy\", \"distance\"]\n",
    "\n",
    "with ProgressBar():\n",
    "    sample = concatenated[corr_columns].head(100000)\n",
    "    correlations = sample.corr()\n",
    "    \n",
    "correlations"
   ]
  },
  {
   "cell_type": "code",
   "execution_count": null,
   "id": "799a8d4c-a51b-4bf5-b752-8da5e55bc334",
   "metadata": {
    "tags": []
   },
   "outputs": [],
   "source": [
    "with ProgressBar():\n",
    "    full_set_correlations = concatenated[corr_columns].corr().compute()"
   ]
  },
  {
   "cell_type": "markdown",
   "id": "4289a7b5-7bd1-4157-918f-15f20359a1b3",
   "metadata": {},
   "source": [
    "It seems that sequence length and distance have some correlation. I can imagine that longer sequences are more easy to predict because there is more info there? Or maybe there are unique sequences that are memorized. I wonder what the distribution is of sequence length."
   ]
  },
  {
   "cell_type": "code",
   "execution_count": null,
   "id": "fe09511a-e9d8-423b-954c-491677e7134b",
   "metadata": {
    "tags": []
   },
   "outputs": [],
   "source": [
    "sample.sequence_length.hist()"
   ]
  },
  {
   "cell_type": "code",
   "execution_count": null,
   "id": "c0490268-2b73-4b58-9fff-2048ab906884",
   "metadata": {
    "tags": []
   },
   "outputs": [],
   "source": [
    "# On the full set\n",
    "\n",
    "freq, bins = da.histogram(concatenated[\"sequence_length\"], bins=range(30))\n",
    "\n",
    "with ProgressBar():\n",
    "    freq = freq.compute()\n",
    "    \n",
    "bins = bins.compute()"
   ]
  },
  {
   "cell_type": "code",
   "execution_count": null,
   "id": "7e7a95ab-7d09-4220-85d6-28025e90be61",
   "metadata": {
    "tags": []
   },
   "outputs": [],
   "source": [
    "fig, ax = plt.subplots()\n",
    "\n",
    "ax.bar(x=range(freq.shape[0]), height= freq)\n",
    "ax.set_xlabel(\"Sequence length\")\n",
    "ax.set_ylabel(\"Frequency\")\n",
    "\n",
    "ax.set_title(\"Number of sequences per sequence length\")"
   ]
  },
  {
   "cell_type": "markdown",
   "id": "6fb971f1-37af-4d55-a98b-e467fa37ca32",
   "metadata": {
    "tags": []
   },
   "source": [
    "I wonder if there are any duplicates and whether it is possible that the model overfits on them."
   ]
  },
  {
   "cell_type": "code",
   "execution_count": null,
   "id": "8121b8e8-b7be-4b02-be95-baede4dbf16d",
   "metadata": {
    "tags": []
   },
   "outputs": [],
   "source": [
    "counts = sequence_df.head(100000).groupby(sequence_df.columns.tolist(), as_index=False).size()\n",
    "\n",
    "counts[counts[\"size\"] > 1]"
   ]
  },
  {
   "cell_type": "code",
   "execution_count": null,
   "id": "d100f0cd-7290-40f5-8fff-e8f1a314da6f",
   "metadata": {
    "tags": []
   },
   "outputs": [],
   "source": [
    "counts = sequence_df.groupby(sequence_df.columns.tolist()).size()\n",
    "\n",
    "with ProgressBar():\n",
    "    result = counts[counts > 1].compute()\n",
    "    \n",
    "result\n",
    "    "
   ]
  },
  {
   "cell_type": "markdown",
   "id": "98ca57ac-2837-4a37-a805-2f55a4783901",
   "metadata": {},
   "source": [
    "Looks like there is one sequence that is in the dataset 2843 times! I wonder how that affects the training set. I also wonder if this sequence has consistent target values."
   ]
  },
  {
   "cell_type": "code",
   "execution_count": null,
   "id": "11164549-d43f-4b62-93bf-bf0b6995ea25",
   "metadata": {
    "tags": []
   },
   "outputs": [],
   "source": [
    "sorted_duplicates = result.sort_values(ascending=False)\n",
    "\n",
    "pd.DataFrame(sorted_duplicates, columns=[\"number_of_duplicates\"])\n"
   ]
  },
  {
   "cell_type": "code",
   "execution_count": null,
   "id": "1b2a9f14-aaaf-4106-a1ab-5627b85d073b",
   "metadata": {
    "tags": []
   },
   "outputs": [],
   "source": [
    "with ProgressBar():\n",
    "    all_duplicates = concatenated[(concatenated[sequence_column_names] == sorted_duplicates.index[0]).all(axis=1)].compute()\n",
    "\n",
    "all_duplicates"
   ]
  },
  {
   "cell_type": "markdown",
   "id": "f46a27c6-1508-40b4-9d2d-2345a0939cb7",
   "metadata": {},
   "source": [
    "## Distinguishing samples that perform well or badly\n",
    "\n"
   ]
  },
  {
   "cell_type": "code",
   "execution_count": null,
   "id": "33ed0580-4052-4281-a80d-6505cf5b679d",
   "metadata": {
    "tags": []
   },
   "outputs": [],
   "source": [
    "concatenated.head()"
   ]
  },
  {
   "cell_type": "code",
   "execution_count": null,
   "id": "71899c71-f83c-45eb-aeb1-5534d6e59732",
   "metadata": {
    "tags": []
   },
   "outputs": [],
   "source": [
    "with ProgressBar():\n",
    "    best_performing = concatenated.sort_values(\"distance\", ascending=False).head(1000)\n",
    "\n",
    "best_performing"
   ]
  },
  {
   "cell_type": "code",
   "execution_count": null,
   "id": "d9011870-5bf8-4187-8090-3f9c0823303c",
   "metadata": {},
   "outputs": [],
   "source": [
    "best_performing.iloc[0]"
   ]
  },
  {
   "cell_type": "code",
   "execution_count": null,
   "id": "44202141-beef-4914-b396-66eb2637f1c2",
   "metadata": {},
   "outputs": [],
   "source": []
  }
 ],
 "metadata": {
  "kernelspec": {
   "display_name": "Python 3 (ipykernel)",
   "language": "python",
   "name": "python3"
  },
  "language_info": {
   "codemirror_mode": {
    "name": "ipython",
    "version": 3
   },
   "file_extension": ".py",
   "mimetype": "text/x-python",
   "name": "python",
   "nbconvert_exporter": "python",
   "pygments_lexer": "ipython3",
   "version": "3.10.14"
  }
 },
 "nbformat": 4,
 "nbformat_minor": 5
}
